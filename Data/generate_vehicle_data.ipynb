{
 "cells": [
  {
   "cell_type": "markdown",
   "id": "153eb77b",
   "metadata": {},
   "source": [
    "# FleetTrack Tech Residency 40"
   ]
  },
  {
   "cell_type": "code",
   "execution_count": null,
   "id": "13f1757e",
   "metadata": {},
   "outputs": [],
   "source": [
    "import numpy as np\n",
    "import pandas as pd\n",
    "import time\n",
    "import json\n",
    "import random"
   ]
  },
  {
   "cell_type": "markdown",
   "id": "5a010c67",
   "metadata": {},
   "source": [
    "### 4 hours of data for one vehicle"
   ]
  },
  {
   "cell_type": "code",
   "execution_count": null,
   "id": "bfc6cd79",
   "metadata": {},
   "outputs": [
    {
     "name": "stdout",
     "output_type": "stream",
     "text": [
      "   vehicle_id           timestamp  speed_mph\n",
      "0          c1 2023-10-01 00:09:00      22.00\n",
      "1          c1 2023-10-01 00:19:00      57.34\n",
      "2          c1 2023-10-01 00:29:00      39.57\n",
      "3          c1 2023-10-01 00:39:00      30.05\n",
      "4          c1 2023-10-01 00:49:00      20.27\n",
      "5          c1 2023-10-01 00:59:00      66.23\n",
      "6          c1 2023-10-01 01:09:00      43.90\n",
      "7          c1 2023-10-01 01:19:00      61.41\n",
      "8          c1 2023-10-01 01:29:00       4.34\n",
      "9          c1 2023-10-01 01:39:00       6.44\n",
      "10         c1 2023-10-01 01:49:00      36.70\n",
      "11         c1 2023-10-01 01:59:00      23.63\n",
      "12         c1 2023-10-01 02:09:00      28.23\n",
      "13         c1 2023-10-01 02:19:00      64.42\n",
      "14         c1 2023-10-01 02:29:00      14.72\n",
      "15         c1 2023-10-01 02:39:00      21.50\n",
      "16         c1 2023-10-01 02:49:00      55.83\n",
      "17         c1 2023-10-01 02:59:00      67.01\n",
      "18         c1 2023-10-01 03:09:00      64.57\n",
      "19         c1 2023-10-01 03:19:00      65.90\n",
      "20         c1 2023-10-01 03:29:00      22.75\n",
      "21         c1 2023-10-01 03:39:00      38.51\n",
      "22         c1 2023-10-01 03:49:00      36.72\n",
      "23         c1 2023-10-01 03:59:00       2.93\n"
     ]
    }
   ],
   "source": [
    "car1 = pd.DataFrame({\"vehicle_id\": ['c1'] * 24,\n",
    "                    \"timestamp\": pd.date_range(start='2023-10-01 00:09:00', periods=24, freq='10min'),\n",
    "                    \"speed_mph\": np.round(np.random.uniform(0, 70, 24), 2),})\n",
    "print(car1)"
   ]
  },
  {
   "cell_type": "code",
   "execution_count": null,
   "id": "209e551c",
   "metadata": {},
   "outputs": [
    {
     "name": "stdout",
     "output_type": "stream",
     "text": [
      "   vehicle_id           timestamp  speed_mph  check_engine\n",
      "0          c1 2023-10-01 00:09:00      30.00             0\n",
      "1          c1 2023-10-01 00:19:00      28.75             0\n",
      "2          c1 2023-10-01 00:29:00      33.25             0\n",
      "3          c1 2023-10-01 00:39:00      35.57             0\n",
      "4          c1 2023-10-01 00:49:00      36.56             0\n",
      "5          c1 2023-10-01 00:59:00      33.12             0\n",
      "6          c1 2023-10-01 01:09:00      29.68             0\n",
      "7          c1 2023-10-01 01:19:00      25.26             0\n",
      "8          c1 2023-10-01 01:29:00      28.92             0\n",
      "9          c1 2023-10-01 01:39:00      29.93             0\n",
      "10         c1 2023-10-01 01:49:00      32.01             0\n",
      "11         c1 2023-10-01 01:59:00      27.22             0\n",
      "12         c1 2023-10-01 02:09:00      31.92             0\n",
      "13         c1 2023-10-01 02:19:00      35.24             0\n",
      "14         c1 2023-10-01 02:29:00      32.37             0\n",
      "15         c1 2023-10-01 02:39:00      29.18             0\n",
      "16         c1 2023-10-01 02:49:00      26.02             0\n",
      "17         c1 2023-10-01 02:59:00      24.06             0\n",
      "18         c1 2023-10-01 03:09:00      24.31             0\n",
      "19         c1 2023-10-01 03:19:00      23.63             0\n",
      "20         c1 2023-10-01 03:29:00      21.54             0\n",
      "21         c1 2023-10-01 03:39:00      22.66             0\n",
      "22         c1 2023-10-01 03:49:00      19.05             1\n",
      "23         c1 2023-10-01 03:59:00      16.98             0\n"
     ]
    }
   ],
   "source": [
    "# Random Walk (simple realistic variation)\n",
    "np.random.seed(42)\n",
    "\n",
    "n = 24\n",
    "timestamps = pd.date_range(start='2023-10-01 00:09:00', periods=n, freq='10min')\n",
    "\n",
    "# Start around 30 mph and add small random changes\n",
    "speeds = [30]\n",
    "for _ in range(1, n):\n",
    "    change = np.random.uniform(-5, 5)  # small change per step\n",
    "    new_speed = max(0, min(70, speeds[-1] + change))  # keep in range [0,70]\n",
    "    speeds.append(new_speed)\n",
    "\n",
    "car1 = pd.DataFrame({\n",
    "    \"vehicle_id\": [\"c1\"] * n,\n",
    "    \"timestamp\": timestamps,\n",
    "    \"speed_mph\": np.round(speeds, 2),\n",
    "    \"check_engine\": [0] * (n - 2) + [1, 0] #simulate a check engine event\n",
    "})\n",
    "print(car1)\n"
   ]
  },
  {
   "cell_type": "markdown",
   "id": "8f93fa30",
   "metadata": {},
   "source": [
    "### Location Database"
   ]
  },
  {
   "cell_type": "code",
   "execution_count": null,
   "id": "5c390de5",
   "metadata": {},
   "outputs": [],
   "source": [
    "# Base coordinates roughly around Phoenix, AZ\n",
    "base_lat = 33.45\n",
    "base_lon = -112.07\n",
    "\n",
    "# Slight random offsets for nearby locations (~a few miles)\n",
    "def random_nearby_coordinates(base_lat, base_lon, delta=0.05):\n",
    "    return (\n",
    "        base_lat + random.uniform(-delta, delta),\n",
    "        base_lon + random.uniform(-delta, delta)\n",
    "    )\n",
    "\n",
    "# Example fake addresses\n",
    "streets = [\n",
    "    \"123 Main St\",\n",
    "    \"456 Oak Ave\",\n",
    "    \"789 Pine Rd\",\n",
    "    \"101 Maple Blvd\",\n",
    "    \"202 Elm St\"\n",
    "]\n",
    "\n",
    "cities = [\"Phoenix\", \"Tempe\", \"Scottsdale\", \"Mesa\", \"Glendale\"]\n",
    "\n",
    "# Generate 5 unique location dicts\n",
    "locations = []\n",
    "for i in range(5):\n",
    "    lat, lon = random_nearby_coordinates(base_lat, base_lon)\n",
    "    entry = {\n",
    "        \"location_id\": f\"Location_{i+1}\",\n",
    "        \"address\": {\n",
    "            \"street\": streets[i],\n",
    "            \"city\": cities[i],\n",
    "            \"state\": \"AZ\",\n",
    "            \"zip\": str(85000 + i)  # simple sequential ZIPs\n",
    "        },\n",
    "        \"latitude\": lat,\n",
    "        \"longitude\": lon\n",
    "    }\n",
    "    locations.append(entry)\n",
    "\n",
    "# Save to JSON file\n",
    "with open(\"phoenix_locations.json\", \"w\") as f:\n",
    "    json.dump(locations, f, indent=2)\n",
    "\n",
    "# Print preview\n",
    "locations\n"
   ]
  }
 ],
 "metadata": {
  "kernelspec": {
   "display_name": "base",
   "language": "python",
   "name": "python3"
  },
  "language_info": {
   "codemirror_mode": {
    "name": "ipython",
    "version": 3
   },
   "file_extension": ".py",
   "mimetype": "text/x-python",
   "name": "python",
   "nbconvert_exporter": "python",
   "pygments_lexer": "ipython3",
   "version": "3.12.7"
  }
 },
 "nbformat": 4,
 "nbformat_minor": 5
}
