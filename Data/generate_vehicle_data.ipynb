{
 "cells": [
  {
   "cell_type": "markdown",
   "id": "153eb77b",
   "metadata": {},
   "source": [
    "# FleetTrack Tech Residency 40"
   ]
  },
  {
   "cell_type": "code",
   "execution_count": null,
   "id": "13f1757e",
   "metadata": {
    "vscode": {
     "languageId": "plaintext"
    }
   },
   "outputs": [],
   "source": [
    "10 minute intervals for simulated data\n",
    "Every startup and shutoff of vehicle will send data\n",
    "Location can just be point A, doesnt have to be a path\n",
    "4 hours of data - 2 weeks - 4 vehicles (truck/car)\n",
    "Each destination would take 15 minutes to get signatures etc drop off mail …\n"
   ]
  },
  {
   "cell_type": "markdown",
   "id": "5a010c67",
   "metadata": {},
   "source": []
  }
 ],
 "metadata": {
  "language_info": {
   "name": "python"
  }
 },
 "nbformat": 4,
 "nbformat_minor": 5
}
