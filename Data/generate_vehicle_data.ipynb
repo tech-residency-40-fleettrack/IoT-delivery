{
 "cells": [
  {
   "cell_type": "markdown",
   "id": "153eb77b",
   "metadata": {},
   "source": [
    "# FleetTrack Tech Residency 40"
   ]
  },
  {
   "cell_type": "code",
   "execution_count": 1,
   "id": "13f1757e",
   "metadata": {},
   "outputs": [],
   "source": [
    "import numpy as np\n",
    "import pandas as pd\n",
    "import time\n",
    "import json\n",
    "import random"
   ]
  },
  {
   "cell_type": "markdown",
   "id": "5a010c67",
   "metadata": {},
   "source": [
    "### 4 hours of data for one vehicle"
   ]
  },
  {
   "cell_type": "code",
   "execution_count": 13,
   "id": "209e551c",
   "metadata": {},
   "outputs": [],
   "source": [
    "#initiate random seed for reproducibility\n",
    "np.random.seed(42)\n",
    "\n",
    "n = 24 #four hours of data at 10 min intervals\n",
    "timestamps = pd.date_range(start='2023-10-01 00:09:00', periods=n, freq='10min')\n",
    "speeds = [30] # Start around 30 mph and add small random changes\n",
    "odometer = [15000]  # starting mileage\n",
    "fuel = [15]  # starting fuel level in gallons\n",
    "engine_temp = [190]  # starting engine temperature in Fahrenheit\n",
    "mpg = 25  # miles per gallon\n",
    "destination = \"Location_1\"\n",
    "\n",
    "for _ in range(1, n):\n",
    "    change = np.random.uniform(-5, 5)  # small change per step\n",
    "    new_speed = max(0, min(70, speeds[-1] + change))  # keep in range [0,70]\n",
    "    speeds.append(new_speed)\n",
    "    odometer.append(odometer[-1] + new_speed * (10/60))  # assuming 10 min intervals\n",
    "    fuel_consumption = new_speed * (10/60) / mpg\n",
    "    fuel.append(max(0, fuel[-1] - fuel_consumption))  # prevent negative fuel\n",
    "## Need condition for fuel refill\n",
    "    # if fuel_gal[-1] < 2:\n",
    "    #     fuel_gal[-1] = 15  # refill tank\n",
    "    engine_temp.append(min(250, engine_temp[-1] + np.random.uniform(0, 5)))\n",
    "## Engine temp tends to rise with speed, but cools down when speed is low\n",
    "\n",
    "    destination = random.choice([\"Location_1\", \"Location_2\", \"Location_3\"]) #TBD have destination be the same for 2-4 iterations\n",
    "\n",
    "car1 = pd.DataFrame({\n",
    "    \"vehicle_id\": [\"c1\"] * n,\n",
    "    \"timestamp\": timestamps,\n",
    "    \"speed_mph\": np.round(speeds, 2),\n",
    "    \"check_engine\": [0] * (n - 2) + [1, 0], #simulate a check engine event\n",
    "    \"milage\": np.round(odometer, 2),\n",
    "    \"fuel_gal\": np.round(fuel, 2),\n",
    "    \"engine_temp_f\": np.round(engine_temp, 2),\n",
    "    \"destination\": destination\n",
    "})\n",
    "\n",
    "car1.to_json(\"car1_data.json\", orient=\"records\", indent=2)\n"
   ]
  },
  {
   "cell_type": "code",
   "execution_count": null,
   "id": "b3bc94a7",
   "metadata": {},
   "outputs": [
    {
     "ename": "NameError",
     "evalue": "name 'car1_20231002' is not defined",
     "output_type": "error",
     "traceback": [
      "\u001b[1;31m---------------------------------------------------------------------------\u001b[0m",
      "\u001b[1;31mNameError\u001b[0m                                 Traceback (most recent call last)",
      "Cell \u001b[1;32mIn[32], line 35\u001b[0m\n\u001b[0;32m     21\u001b[0m     engine_temp\u001b[38;5;241m.\u001b[39mappend(\u001b[38;5;28mmin\u001b[39m(\u001b[38;5;241m250\u001b[39m, engine_temp[\u001b[38;5;241m-\u001b[39m\u001b[38;5;241m1\u001b[39m] \u001b[38;5;241m+\u001b[39m np\u001b[38;5;241m.\u001b[39mrandom\u001b[38;5;241m.\u001b[39muniform(\u001b[38;5;241m0\u001b[39m, \u001b[38;5;241m5\u001b[39m)))\n\u001b[0;32m     23\u001b[0m mcqueen_20231002 \u001b[38;5;241m=\u001b[39m pd\u001b[38;5;241m.\u001b[39mDataFrame({\n\u001b[0;32m     24\u001b[0m     \u001b[38;5;124m\"\u001b[39m\u001b[38;5;124mvehicle_id\u001b[39m\u001b[38;5;124m\"\u001b[39m: [\u001b[38;5;124m\"\u001b[39m\u001b[38;5;124mcar1\u001b[39m\u001b[38;5;124m\"\u001b[39m] \u001b[38;5;241m*\u001b[39m \u001b[38;5;241m24\u001b[39m,\n\u001b[0;32m     25\u001b[0m     \u001b[38;5;124m\"\u001b[39m\u001b[38;5;124mlatitude\u001b[39m\u001b[38;5;124m\"\u001b[39m: np\u001b[38;5;241m.\u001b[39mround(lat, \u001b[38;5;241m5\u001b[39m),\n\u001b[1;32m   (...)\u001b[0m\n\u001b[0;32m     32\u001b[0m     \u001b[38;5;124m\"\u001b[39m\u001b[38;5;124mrecorded_at\u001b[39m\u001b[38;5;124m\"\u001b[39m: pd\u001b[38;5;241m.\u001b[39mdate_range(start\u001b[38;5;241m=\u001b[39m\u001b[38;5;124m'\u001b[39m\u001b[38;5;124m2023-10-02 09:00:00\u001b[39m\u001b[38;5;124m'\u001b[39m, periods\u001b[38;5;241m=\u001b[39m\u001b[38;5;241m24\u001b[39m, freq\u001b[38;5;241m=\u001b[39m\u001b[38;5;124m'\u001b[39m\u001b[38;5;124m10min\u001b[39m\u001b[38;5;124m'\u001b[39m)\n\u001b[0;32m     33\u001b[0m })\n\u001b[1;32m---> 35\u001b[0m \u001b[43mcar1_20231002\u001b[49m\u001b[38;5;241m.\u001b[39mto_json(\u001b[38;5;124m\"\u001b[39m\u001b[38;5;124mcar1_20231002.json\u001b[39m\u001b[38;5;124m\"\u001b[39m, orient\u001b[38;5;241m=\u001b[39m\u001b[38;5;124m\"\u001b[39m\u001b[38;5;124mrecords\u001b[39m\u001b[38;5;124m\"\u001b[39m, indent\u001b[38;5;241m=\u001b[39m\u001b[38;5;241m2\u001b[39m)\n\u001b[0;32m     37\u001b[0m car1_20231002\u001b[38;5;241m.\u001b[39mtail()\n",
      "\u001b[1;31mNameError\u001b[0m: name 'car1_20231002' is not defined"
     ]
    }
   ],
   "source": [
    "#initiate random seed for reproducibility\n",
    "np.random.seed(42)\n",
    "\n",
    "speeds = [30] # Start around 30 mph and add small random changes\n",
    "odometer = [45265.81]  # starting mileage\n",
    "fuel = [11.81]  # starting fuel level in gallons\n",
    "engine_temp = [190]  # starting engine temperature in Fahrenheit\n",
    "mpg = 30  # miles per gallon\n",
    "lat = [33.45]\n",
    "long = [-112.07]\n",
    "\n",
    "for _ in range(1, 24):\n",
    "    change = np.random.uniform(-5, 5)  # small change per step\n",
    "    lat.append(lat[-1] + random.uniform(-0.05, 0.05))\n",
    "    long.append(long[-1] + random.uniform(-0.05, 0.05)),\n",
    "    new_speed = max(0, min(70, speeds[-1] + change))  # keep in range [0,70]\n",
    "    speeds.append(new_speed)\n",
    "    odometer.append(odometer[-1] + new_speed * (10/60))  # assuming 10 min intervals\n",
    "    fuel_consumption = new_speed * (10/60) / mpg\n",
    "    fuel.append(max(0, fuel[-1] - fuel_consumption))\n",
    "    engine_temp.append(min(250, engine_temp[-1] + np.random.uniform(0, 5)))\n",
    "\n",
    "car1_20231001 = pd.DataFrame({\n",
    "    \"vehicle_id\": [\"car1\"] * 24,\n",
    "    \"latitude\": np.round(lat, 5),\n",
    "    \"longitude\": np.round(long, 5),\n",
    "    \"speed_mph\": np.round(speeds, 2),\n",
    "    \"check_engine\": [0] * 24,\n",
    "    \"milage\": np.round(odometer, 2),\n",
    "    \"fuel_gal\": np.round(fuel, 2),\n",
    "    \"engine_temp_f\": np.round(engine_temp, 2),\n",
    "    \"recorded_at\": pd.date_range(start='2023-10-01 09:00:00', periods=24, freq='10min')\n",
    "})\n",
    "\n",
    "car1_20231001.to_json(\"car1_20231001.json\", orient=\"records\", indent=2)\n",
    "\n",
    "car1_20231001.tail()"
   ]
  },
  {
   "cell_type": "markdown",
   "id": "8f93fa30",
   "metadata": {},
   "source": [
    "### Location Database and Vehicle Cards"
   ]
  },
  {
   "cell_type": "code",
   "execution_count": null,
   "id": "c4bada4b",
   "metadata": {},
   "outputs": [
    {
     "ename": "IndexError",
     "evalue": "list index out of range",
     "output_type": "error",
     "traceback": [
      "\u001b[1;31m---------------------------------------------------------------------------\u001b[0m",
      "\u001b[1;31mIndexError\u001b[0m                                Traceback (most recent call last)",
      "Cell \u001b[1;32mIn[14], line 30\u001b[0m\n\u001b[0;32m     27\u001b[0m \u001b[38;5;28;01mfor\u001b[39;00m i \u001b[38;5;129;01min\u001b[39;00m \u001b[38;5;28mrange\u001b[39m(\u001b[38;5;241m5\u001b[39m):\n\u001b[0;32m     28\u001b[0m     lat, lon \u001b[38;5;241m=\u001b[39m random_nearby_coordinates(base_lat, base_lon)\n\u001b[0;32m     29\u001b[0m     entry \u001b[38;5;241m=\u001b[39m {\n\u001b[1;32m---> 30\u001b[0m         \u001b[38;5;124m\"\u001b[39m\u001b[38;5;124mlocation_id\u001b[39m\u001b[38;5;124m\"\u001b[39m: \u001b[43mlocations\u001b[49m\u001b[43m[\u001b[49m\u001b[43mi\u001b[49m\u001b[43m]\u001b[49m,\n\u001b[0;32m     31\u001b[0m         \u001b[38;5;124m\"\u001b[39m\u001b[38;5;124maddress\u001b[39m\u001b[38;5;124m\"\u001b[39m: {\n\u001b[0;32m     32\u001b[0m             \u001b[38;5;124m\"\u001b[39m\u001b[38;5;124mstreet\u001b[39m\u001b[38;5;124m\"\u001b[39m: streets[i],\n\u001b[0;32m     33\u001b[0m             \u001b[38;5;124m\"\u001b[39m\u001b[38;5;124mcity\u001b[39m\u001b[38;5;124m\"\u001b[39m: cities[i],\n\u001b[0;32m     34\u001b[0m             \u001b[38;5;124m\"\u001b[39m\u001b[38;5;124mstate\u001b[39m\u001b[38;5;124m\"\u001b[39m: \u001b[38;5;124m\"\u001b[39m\u001b[38;5;124mAZ\u001b[39m\u001b[38;5;124m\"\u001b[39m,\n\u001b[0;32m     35\u001b[0m             \u001b[38;5;124m\"\u001b[39m\u001b[38;5;124mzip\u001b[39m\u001b[38;5;124m\"\u001b[39m: \u001b[38;5;28mstr\u001b[39m(\u001b[38;5;241m85000\u001b[39m \u001b[38;5;241m+\u001b[39m i)  \u001b[38;5;66;03m# simple sequential ZIPs\u001b[39;00m\n\u001b[0;32m     36\u001b[0m         },\n\u001b[0;32m     37\u001b[0m         \u001b[38;5;124m\"\u001b[39m\u001b[38;5;124mlatitude\u001b[39m\u001b[38;5;124m\"\u001b[39m: lat,\n\u001b[0;32m     38\u001b[0m         \u001b[38;5;124m\"\u001b[39m\u001b[38;5;124mlongitude\u001b[39m\u001b[38;5;124m\"\u001b[39m: lon\n\u001b[0;32m     39\u001b[0m     }\n\u001b[0;32m     40\u001b[0m     locations\u001b[38;5;241m.\u001b[39mappend(entry)\n\u001b[0;32m     42\u001b[0m \u001b[38;5;66;03m# Save to JSON file\u001b[39;00m\n",
      "\u001b[1;31mIndexError\u001b[0m: list index out of range"
     ]
    }
   ],
   "source": [
    "# Base coordinates roughly around Phoenix, AZ\n",
    "base_lat = 33.45\n",
    "base_lon = -112.07\n",
    "\n",
    "# Slight random offsets for nearby locations (~a few miles)\n",
    "def random_nearby_coordinates(base_lat, base_lon, delta=0.05):\n",
    "    return (\n",
    "        base_lat + random.uniform(-delta, delta),\n",
    "        base_lon + random.uniform(-delta, delta)\n",
    "    )\n",
    "\n",
    "# Example fake addresses\n",
    "streets = [\n",
    "    \"123 Main St\",\n",
    "    \"456 Oak Ave\",\n",
    "    \"789 Pine Rd\",\n",
    "    \"101 Maple Blvd\",\n",
    "    \"202 Elm St\"\n",
    "]\n",
    "\n",
    "cities = [\"Phoenix\", \"Tempe\", \"Scottsdale\", \"Mesa\", \"Glendale\"]\n",
    "\n",
    "locations = [\"Phoenix_Warehouse\", \"Tempe_Hub\", \"Scottsdale_Office\", \"Mesa_Store\", \"Glendale_Center\"]\n",
    "\n",
    "# Generate 5 unique location dicts\n",
    "locations = []\n",
    "for i in range(4):\n",
    "    lat, lon = random_nearby_coordinates(base_lat, base_lon)\n",
    "    entry = {\n",
    "        \"location_id\": locations[i],\n",
    "        \"address\": {\n",
    "            \"street\": streets[i],\n",
    "            \"city\": cities[i],\n",
    "            \"state\": \"AZ\",\n",
    "            \"zip\": str(85000 + i)  # simple sequential ZIPs\n",
    "        },\n",
    "        \"latitude\": lat,\n",
    "        \"longitude\": lon\n",
    "    }\n",
    "    locations.append(entry)\n",
    "\n",
    "# Save to JSON file\n",
    "with open(\"location_data.json\", \"w\") as f:\n",
    "    json.dump(locations, f, indent=2)\n"
   ]
  },
  {
   "cell_type": "code",
   "execution_count": null,
   "id": "015c4892",
   "metadata": {},
   "outputs": [],
   "source": [
    "vehicles = {\n",
    "  \"vehicles\": [\n",
    "    {\n",
    "      \"vehicle_id\": \"Car\",\n",
    "      \"make\": \"Kia\",\n",
    "      \"model\": \"Soul\",\n",
    "      \"vin\": \"KNDJP3A56G7459821\",\n",
    "      \"last_service\": \"2023-07-08\",\n",
    "      \"odometer\": 45200\n",
    "    },\n",
    "    {\n",
    "      \"vehicle_id\": \"Scooter\",\n",
    "      \"make\": \"Vespa\",\n",
    "      \"model\": \"Primavera 150\",\n",
    "      \"vin\": \"ZAPM818G2J5204812\",\n",
    "      \"last_service\": \"2023-08-20\",\n",
    "      \"odometer\": 5200\n",
    "    },\n",
    "    {\n",
    "      \"vehicle_id\": \"Van\",\n",
    "      \"make\": \"Mercedes-Benz\",\n",
    "      \"model\": \"Sprinter\",\n",
    "      \"vin\": \"WD3PE8CC7GP352941\",\n",
    "      \"last_service\": \"2023-09-30\",\n",
    "      \"odometer\": 120500\n",
    "    },\n",
    "    {\n",
    "      \"vehicle_id\": \"Truck\",\n",
    "      \"make\": \"Ford\",\n",
    "      \"model\": \"F-150\",\n",
    "      \"vin\": \"1FTFW1E58PKD34827\",\n",
    "      \"last_service\": \"2023-05-15\",\n",
    "      \"odometer\": 87500\n",
    "    }\n",
    "  ]\n",
    "}\n",
    "with open(\"vehicle_data.json\", \"w\") as f:\n",
    "    json.dump(vehicles, f, indent=2)"
   ]
  },
  {
   "cell_type": "markdown",
   "id": "15faf5db",
   "metadata": {},
   "source": [
    "## repeat for multiple days"
   ]
  },
  {
   "cell_type": "code",
   "execution_count": null,
   "id": "b0ac6ecb",
   "metadata": {},
   "outputs": [],
   "source": []
  }
 ],
 "metadata": {
  "kernelspec": {
   "display_name": "myenv",
   "language": "python",
   "name": "python3"
  },
  "language_info": {
   "codemirror_mode": {
    "name": "ipython",
    "version": 3
   },
   "file_extension": ".py",
   "mimetype": "text/x-python",
   "name": "python",
   "nbconvert_exporter": "python",
   "pygments_lexer": "ipython3",
   "version": "3.10.18"
  }
 },
 "nbformat": 4,
 "nbformat_minor": 5
}
