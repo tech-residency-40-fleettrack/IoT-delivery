{
 "cells": [
  {
   "cell_type": "markdown",
   "id": "153eb77b",
   "metadata": {},
   "source": [
    "# FleetTrack Tech Residency 40"
   ]
  },
  {
   "cell_type": "code",
   "execution_count": 2,
   "id": "13f1757e",
   "metadata": {},
   "outputs": [],
   "source": [
    "import numpy as np\n",
    "import pandas as pd\n",
    "import time\n",
    "import json\n",
    "import random"
   ]
  },
  {
   "cell_type": "markdown",
   "id": "5a010c67",
   "metadata": {},
   "source": [
    "### 4 hours of data for one vehicle"
   ]
  },
  {
   "cell_type": "code",
   "execution_count": 11,
   "id": "b3bc94a7",
   "metadata": {},
   "outputs": [
    {
     "data": {
      "application/vnd.microsoft.datawrangler.viewer.v0+json": {
       "columns": [
        {
         "name": "index",
         "rawType": "int64",
         "type": "integer"
        },
        {
         "name": "vehicle_id",
         "rawType": "object",
         "type": "string"
        },
        {
         "name": "latitude",
         "rawType": "float64",
         "type": "float"
        },
        {
         "name": "longitude",
         "rawType": "float64",
         "type": "float"
        },
        {
         "name": "speed_mph",
         "rawType": "float64",
         "type": "float"
        },
        {
         "name": "check_engine",
         "rawType": "int64",
         "type": "integer"
        },
        {
         "name": "odometer",
         "rawType": "float64",
         "type": "float"
        },
        {
         "name": "fuel_gal",
         "rawType": "float64",
         "type": "float"
        },
        {
         "name": "engine_temp_f",
         "rawType": "float64",
         "type": "float"
        },
        {
         "name": "recorded_at",
         "rawType": "datetime64[ns]",
         "type": "datetime"
        }
       ],
       "ref": "9b58c30d-0e58-4b2d-8fc3-8d37f0fc3c16",
       "rows": [
        [
         "19",
         "truck2",
         "33.5575",
         "-112.00483",
         "12.88",
         "0",
         "87823.08",
         "17.04",
         "236.69",
         "2023-10-05 12:12:00"
        ],
        [
         "20",
         "truck2",
         "33.51659",
         "-111.9579",
         "14.72",
         "0",
         "87825.54",
         "16.9",
         "238.89",
         "2023-10-05 12:22:00"
        ],
        [
         "21",
         "truck2",
         "33.50995",
         "-111.94625",
         "10.94",
         "0",
         "87827.36",
         "16.8",
         "241.37",
         "2023-10-05 12:32:00"
        ],
        [
         "22",
         "truck2",
         "33.48561",
         "-111.95629",
         "6.28",
         "0",
         "87828.41",
         "16.74",
         "245.92",
         "2023-10-05 12:42:00"
        ],
        [
         "23",
         "truck2",
         "33.44478",
         "-111.96826",
         "3.87",
         "0",
         "87829.05",
         "16.7",
         "249.23",
         "2023-10-05 12:52:00"
        ]
       ],
       "shape": {
        "columns": 9,
        "rows": 5
       }
      },
      "text/html": [
       "<div>\n",
       "<style scoped>\n",
       "    .dataframe tbody tr th:only-of-type {\n",
       "        vertical-align: middle;\n",
       "    }\n",
       "\n",
       "    .dataframe tbody tr th {\n",
       "        vertical-align: top;\n",
       "    }\n",
       "\n",
       "    .dataframe thead th {\n",
       "        text-align: right;\n",
       "    }\n",
       "</style>\n",
       "<table border=\"1\" class=\"dataframe\">\n",
       "  <thead>\n",
       "    <tr style=\"text-align: right;\">\n",
       "      <th></th>\n",
       "      <th>vehicle_id</th>\n",
       "      <th>latitude</th>\n",
       "      <th>longitude</th>\n",
       "      <th>speed_mph</th>\n",
       "      <th>check_engine</th>\n",
       "      <th>odometer</th>\n",
       "      <th>fuel_gal</th>\n",
       "      <th>engine_temp_f</th>\n",
       "      <th>recorded_at</th>\n",
       "    </tr>\n",
       "  </thead>\n",
       "  <tbody>\n",
       "    <tr>\n",
       "      <th>19</th>\n",
       "      <td>truck2</td>\n",
       "      <td>33.55750</td>\n",
       "      <td>-112.00483</td>\n",
       "      <td>12.88</td>\n",
       "      <td>0</td>\n",
       "      <td>87823.08</td>\n",
       "      <td>17.04</td>\n",
       "      <td>236.69</td>\n",
       "      <td>2023-10-05 12:12:00</td>\n",
       "    </tr>\n",
       "    <tr>\n",
       "      <th>20</th>\n",
       "      <td>truck2</td>\n",
       "      <td>33.51659</td>\n",
       "      <td>-111.95790</td>\n",
       "      <td>14.72</td>\n",
       "      <td>0</td>\n",
       "      <td>87825.54</td>\n",
       "      <td>16.90</td>\n",
       "      <td>238.89</td>\n",
       "      <td>2023-10-05 12:22:00</td>\n",
       "    </tr>\n",
       "    <tr>\n",
       "      <th>21</th>\n",
       "      <td>truck2</td>\n",
       "      <td>33.50995</td>\n",
       "      <td>-111.94625</td>\n",
       "      <td>10.94</td>\n",
       "      <td>0</td>\n",
       "      <td>87827.36</td>\n",
       "      <td>16.80</td>\n",
       "      <td>241.37</td>\n",
       "      <td>2023-10-05 12:32:00</td>\n",
       "    </tr>\n",
       "    <tr>\n",
       "      <th>22</th>\n",
       "      <td>truck2</td>\n",
       "      <td>33.48561</td>\n",
       "      <td>-111.95629</td>\n",
       "      <td>6.28</td>\n",
       "      <td>0</td>\n",
       "      <td>87828.41</td>\n",
       "      <td>16.74</td>\n",
       "      <td>245.92</td>\n",
       "      <td>2023-10-05 12:42:00</td>\n",
       "    </tr>\n",
       "    <tr>\n",
       "      <th>23</th>\n",
       "      <td>truck2</td>\n",
       "      <td>33.44478</td>\n",
       "      <td>-111.96826</td>\n",
       "      <td>3.87</td>\n",
       "      <td>0</td>\n",
       "      <td>87829.05</td>\n",
       "      <td>16.70</td>\n",
       "      <td>249.23</td>\n",
       "      <td>2023-10-05 12:52:00</td>\n",
       "    </tr>\n",
       "  </tbody>\n",
       "</table>\n",
       "</div>"
      ],
      "text/plain": [
       "   vehicle_id  latitude  longitude  speed_mph  check_engine  odometer  \\\n",
       "19     truck2  33.55750 -112.00483      12.88             0  87823.08   \n",
       "20     truck2  33.51659 -111.95790      14.72             0  87825.54   \n",
       "21     truck2  33.50995 -111.94625      10.94             0  87827.36   \n",
       "22     truck2  33.48561 -111.95629       6.28             0  87828.41   \n",
       "23     truck2  33.44478 -111.96826       3.87             0  87829.05   \n",
       "\n",
       "    fuel_gal  engine_temp_f         recorded_at  \n",
       "19     17.04         236.69 2023-10-05 12:12:00  \n",
       "20     16.90         238.89 2023-10-05 12:22:00  \n",
       "21     16.80         241.37 2023-10-05 12:32:00  \n",
       "22     16.74         245.92 2023-10-05 12:42:00  \n",
       "23     16.70         249.23 2023-10-05 12:52:00  "
      ]
     },
     "execution_count": 11,
     "metadata": {},
     "output_type": "execute_result"
    }
   ],
   "source": [
    "#initiate random seed for reproducibility\n",
    "np.random.seed(42)\n",
    "\n",
    "speeds = [30] # Start around 30 mph and add small random changes\n",
    "odometer = [87763.24]  # starting mileage\n",
    "fuel = [20.36]  # starting fuel level in gallons\n",
    "engine_temp = [190]  # starting engine temperature in Fahrenheit\n",
    "mpg = 18  # miles per gallon\n",
    "lat = [33.45]\n",
    "long = [-112.07]\n",
    "\n",
    "for _ in range(1, 24):\n",
    "    change = np.random.uniform(-5, 5)\n",
    "    lat.append(lat[-1] + random.uniform(-0.05, 0.05))\n",
    "    long.append(long[-1] + random.uniform(-0.05, 0.05)),\n",
    "    #speed, odometer, and fuel consumption are related calculations\n",
    "    new_speed = max(0, min(70, speeds[-1] + change))\n",
    "    speeds.append(new_speed)\n",
    "    odometer.append(odometer[-1] + new_speed * (10/60))\n",
    "    fuel_consumption = new_speed * (10/60) / mpg\n",
    "    fuel.append(max(0, fuel[-1] - fuel_consumption))\n",
    "    #engine temperature not related to any other variable\n",
    "    engine_temp.append(min(250, engine_temp[-1] + np.random.uniform(0, 5)))\n",
    "\n",
    "truck2_20231005 = pd.DataFrame({\n",
    "    \"vehicle_id\": [\"truck2\"] * 24,\n",
    "    \"latitude\": np.round(lat, 5),\n",
    "    \"longitude\": np.round(long, 5),\n",
    "    \"speed_mph\": np.round(speeds, 2),\n",
    "    \"check_engine\": [0] * 24,\n",
    "    \"odometer\": np.round(odometer, 2),\n",
    "    \"fuel_gal\": np.round(fuel, 2),\n",
    "    \"engine_temp_f\": np.round(engine_temp, 2),\n",
    "    #stagger time with car data in case we need to merge later\n",
    "    \"recorded_at\": pd.date_range(start='2023-10-05 09:02:00', periods=24, freq='10min')\n",
    "})\n",
    "\n",
    "truck2_20231005.to_json(\"truck2_20231005.json\", orient=\"records\", indent=2)\n",
    "\n",
    "truck2_20231005.tail()"
   ]
  }
 ],
 "metadata": {
  "kernelspec": {
   "display_name": "myenv",
   "language": "python",
   "name": "python3"
  },
  "language_info": {
   "codemirror_mode": {
    "name": "ipython",
    "version": 3
   },
   "file_extension": ".py",
   "mimetype": "text/x-python",
   "name": "python",
   "nbconvert_exporter": "python",
   "pygments_lexer": "ipython3",
   "version": "3.10.18"
  }
 },
 "nbformat": 4,
 "nbformat_minor": 5
}
