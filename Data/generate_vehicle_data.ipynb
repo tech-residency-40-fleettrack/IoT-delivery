{
 "cells": [
  {
   "cell_type": "markdown",
   "id": "153eb77b",
   "metadata": {},
   "source": [
    "# FleetTrack Tech Residency 40"
   ]
  },
  {
   "cell_type": "code",
   "execution_count": 1,
   "id": "13f1757e",
   "metadata": {},
   "outputs": [],
   "source": [
    "import numpy as np\n",
    "import pandas as pd\n",
    "import time\n",
    "import json\n",
    "import random"
   ]
  },
  {
   "cell_type": "markdown",
   "id": "5a010c67",
   "metadata": {},
   "source": [
    "### 4 hours of data for one vehicle"
   ]
  },
  {
   "cell_type": "code",
   "execution_count": null,
   "id": "209e551c",
   "metadata": {},
   "outputs": [
    {
     "ename": "TypeError",
     "evalue": "Object of type DataFrame is not JSON serializable",
     "output_type": "error",
     "traceback": [
      "\u001b[1;31m---------------------------------------------------------------------------\u001b[0m",
      "\u001b[1;31mTypeError\u001b[0m                                 Traceback (most recent call last)",
      "Cell \u001b[1;32mIn[6], line 42\u001b[0m\n\u001b[0;32m     30\u001b[0m car1 \u001b[38;5;241m=\u001b[39m pd\u001b[38;5;241m.\u001b[39mDataFrame({\n\u001b[0;32m     31\u001b[0m     \u001b[38;5;124m\"\u001b[39m\u001b[38;5;124mvehicle_id\u001b[39m\u001b[38;5;124m\"\u001b[39m: [\u001b[38;5;124m\"\u001b[39m\u001b[38;5;124mc1\u001b[39m\u001b[38;5;124m\"\u001b[39m] \u001b[38;5;241m*\u001b[39m n,\n\u001b[0;32m     32\u001b[0m     \u001b[38;5;124m\"\u001b[39m\u001b[38;5;124mtimestamp\u001b[39m\u001b[38;5;124m\"\u001b[39m: timestamps,\n\u001b[1;32m   (...)\u001b[0m\n\u001b[0;32m     38\u001b[0m     \u001b[38;5;124m\"\u001b[39m\u001b[38;5;124mdestination\u001b[39m\u001b[38;5;124m\"\u001b[39m: destination\n\u001b[0;32m     39\u001b[0m })\n\u001b[0;32m     41\u001b[0m \u001b[38;5;28;01mwith\u001b[39;00m \u001b[38;5;28mopen\u001b[39m(\u001b[38;5;124m\"\u001b[39m\u001b[38;5;124m10-01-c1.json\u001b[39m\u001b[38;5;124m\"\u001b[39m, \u001b[38;5;124m\"\u001b[39m\u001b[38;5;124mw\u001b[39m\u001b[38;5;124m\"\u001b[39m) \u001b[38;5;28;01mas\u001b[39;00m f:\n\u001b[1;32m---> 42\u001b[0m     \u001b[43mjson\u001b[49m\u001b[38;5;241;43m.\u001b[39;49m\u001b[43mdump\u001b[49m\u001b[43m(\u001b[49m\u001b[43mcar1\u001b[49m\u001b[43m,\u001b[49m\u001b[43m \u001b[49m\u001b[43mf\u001b[49m\u001b[43m,\u001b[49m\u001b[43m \u001b[49m\u001b[43mindent\u001b[49m\u001b[38;5;241;43m=\u001b[39;49m\u001b[38;5;241;43m2\u001b[39;49m\u001b[43m)\u001b[49m\n",
      "File \u001b[1;32mc:\\Users\\rchan\\anaconda3\\envs\\myenv\\lib\\json\\__init__.py:179\u001b[0m, in \u001b[0;36mdump\u001b[1;34m(obj, fp, skipkeys, ensure_ascii, check_circular, allow_nan, cls, indent, separators, default, sort_keys, **kw)\u001b[0m\n\u001b[0;32m    173\u001b[0m     iterable \u001b[38;5;241m=\u001b[39m \u001b[38;5;28mcls\u001b[39m(skipkeys\u001b[38;5;241m=\u001b[39mskipkeys, ensure_ascii\u001b[38;5;241m=\u001b[39mensure_ascii,\n\u001b[0;32m    174\u001b[0m         check_circular\u001b[38;5;241m=\u001b[39mcheck_circular, allow_nan\u001b[38;5;241m=\u001b[39mallow_nan, indent\u001b[38;5;241m=\u001b[39mindent,\n\u001b[0;32m    175\u001b[0m         separators\u001b[38;5;241m=\u001b[39mseparators,\n\u001b[0;32m    176\u001b[0m         default\u001b[38;5;241m=\u001b[39mdefault, sort_keys\u001b[38;5;241m=\u001b[39msort_keys, \u001b[38;5;241m*\u001b[39m\u001b[38;5;241m*\u001b[39mkw)\u001b[38;5;241m.\u001b[39miterencode(obj)\n\u001b[0;32m    177\u001b[0m \u001b[38;5;66;03m# could accelerate with writelines in some versions of Python, at\u001b[39;00m\n\u001b[0;32m    178\u001b[0m \u001b[38;5;66;03m# a debuggability cost\u001b[39;00m\n\u001b[1;32m--> 179\u001b[0m \u001b[38;5;28;01mfor\u001b[39;00m chunk \u001b[38;5;129;01min\u001b[39;00m iterable:\n\u001b[0;32m    180\u001b[0m     fp\u001b[38;5;241m.\u001b[39mwrite(chunk)\n",
      "File \u001b[1;32mc:\\Users\\rchan\\anaconda3\\envs\\myenv\\lib\\json\\encoder.py:438\u001b[0m, in \u001b[0;36m_make_iterencode.<locals>._iterencode\u001b[1;34m(o, _current_indent_level)\u001b[0m\n\u001b[0;32m    436\u001b[0m         \u001b[38;5;28;01mraise\u001b[39;00m \u001b[38;5;167;01mValueError\u001b[39;00m(\u001b[38;5;124m\"\u001b[39m\u001b[38;5;124mCircular reference detected\u001b[39m\u001b[38;5;124m\"\u001b[39m)\n\u001b[0;32m    437\u001b[0m     markers[markerid] \u001b[38;5;241m=\u001b[39m o\n\u001b[1;32m--> 438\u001b[0m o \u001b[38;5;241m=\u001b[39m \u001b[43m_default\u001b[49m\u001b[43m(\u001b[49m\u001b[43mo\u001b[49m\u001b[43m)\u001b[49m\n\u001b[0;32m    439\u001b[0m \u001b[38;5;28;01myield from\u001b[39;00m _iterencode(o, _current_indent_level)\n\u001b[0;32m    440\u001b[0m \u001b[38;5;28;01mif\u001b[39;00m markers \u001b[38;5;129;01mis\u001b[39;00m \u001b[38;5;129;01mnot\u001b[39;00m \u001b[38;5;28;01mNone\u001b[39;00m:\n",
      "File \u001b[1;32mc:\\Users\\rchan\\anaconda3\\envs\\myenv\\lib\\json\\encoder.py:179\u001b[0m, in \u001b[0;36mJSONEncoder.default\u001b[1;34m(self, o)\u001b[0m\n\u001b[0;32m    160\u001b[0m \u001b[38;5;28;01mdef\u001b[39;00m\u001b[38;5;250m \u001b[39m\u001b[38;5;21mdefault\u001b[39m(\u001b[38;5;28mself\u001b[39m, o):\n\u001b[0;32m    161\u001b[0m \u001b[38;5;250m    \u001b[39m\u001b[38;5;124;03m\"\"\"Implement this method in a subclass such that it returns\u001b[39;00m\n\u001b[0;32m    162\u001b[0m \u001b[38;5;124;03m    a serializable object for ``o``, or calls the base implementation\u001b[39;00m\n\u001b[0;32m    163\u001b[0m \u001b[38;5;124;03m    (to raise a ``TypeError``).\u001b[39;00m\n\u001b[1;32m   (...)\u001b[0m\n\u001b[0;32m    177\u001b[0m \n\u001b[0;32m    178\u001b[0m \u001b[38;5;124;03m    \"\"\"\u001b[39;00m\n\u001b[1;32m--> 179\u001b[0m     \u001b[38;5;28;01mraise\u001b[39;00m \u001b[38;5;167;01mTypeError\u001b[39;00m(\u001b[38;5;124mf\u001b[39m\u001b[38;5;124m'\u001b[39m\u001b[38;5;124mObject of type \u001b[39m\u001b[38;5;132;01m{\u001b[39;00mo\u001b[38;5;241m.\u001b[39m\u001b[38;5;18m__class__\u001b[39m\u001b[38;5;241m.\u001b[39m\u001b[38;5;18m__name__\u001b[39m\u001b[38;5;132;01m}\u001b[39;00m\u001b[38;5;124m \u001b[39m\u001b[38;5;124m'\u001b[39m\n\u001b[0;32m    180\u001b[0m                     \u001b[38;5;124mf\u001b[39m\u001b[38;5;124m'\u001b[39m\u001b[38;5;124mis not JSON serializable\u001b[39m\u001b[38;5;124m'\u001b[39m)\n",
      "\u001b[1;31mTypeError\u001b[0m: Object of type DataFrame is not JSON serializable"
     ]
    }
   ],
   "source": [
    "#initiate random seed for reproducibility\n",
    "np.random.seed(42)\n",
    "\n",
    "n = 24\n",
    "timestamps = pd.date_range(start='2023-10-01 00:09:00', periods=n, freq='10min')\n",
    "\n",
    "# Start around 30 mph and add small random changes\n",
    "speeds = [30]\n",
    "milage = [15000]  # starting mileage\n",
    "fuel_gal = [15]  # starting fuel level in gallons\n",
    "engine_temp = [190]  # starting engine temperature in Fahrenheit\n",
    "mpg = 25  # miles per gallon\n",
    "destination = \"Location_1\"\n",
    "\n",
    "for _ in range(1, n):\n",
    "    change = np.random.uniform(-5, 5)  # small change per step\n",
    "    new_speed = max(0, min(70, speeds[-1] + change))  # keep in range [0,70]\n",
    "    speeds.append(new_speed)\n",
    "    milage.append(milage[-1] + new_speed * (10/60))  # assuming 10 min intervals\n",
    "    fuel_consumption = new_speed * (10/60) / mpg\n",
    "    fuel_gal.append(max(0, fuel_gal[-1] - fuel_consumption))  # prevent negative fuel\n",
    "## Need condition for fuel refill\n",
    "    # if fuel_gal[-1] < 2:\n",
    "    #     fuel_gal[-1] = 15  # refill tank\n",
    "    engine_temp.append(min(250, engine_temp[-1] + np.random.uniform(0, 5)))\n",
    "## Engine temp tends to rise with speed, but cools down when speed is low\n",
    "\n",
    "    destination = random.choice([\"Location_1\", \"Location_2\", \"Location_3\"]) #TBD have destination be the same for 2-4 iterations\n",
    "\n",
    "car1 = pd.DataFrame({\n",
    "    \"vehicle_id\": [\"c1\"] * n,\n",
    "    \"timestamp\": timestamps,\n",
    "    \"speed_mph\": np.round(speeds, 2),\n",
    "    \"check_engine\": [0] * (n - 2) + [1, 0], #simulate a check engine event\n",
    "    \"milage\": np.round(milage, 2),\n",
    "    \"fuel_gal\": np.round(fuel_gal, 2),\n",
    "    \"engine_temp_f\": np.round(engine_temp, 2),\n",
    "    \"destination\": destination\n",
    "})\n",
    "\n",
    "car1.to_json(\"car1_data.json\", orient=\"records\", indent=2)\n"
   ]
  },
  {
   "cell_type": "markdown",
   "id": "8f93fa30",
   "metadata": {},
   "source": [
    "### Location Database"
   ]
  },
  {
   "cell_type": "code",
   "execution_count": null,
   "id": "c4bada4b",
   "metadata": {},
   "outputs": [],
   "source": [
    "# Base coordinates roughly around Phoenix, AZ\n",
    "base_lat = 33.45\n",
    "base_lon = -112.07\n",
    "\n",
    "# Slight random offsets for nearby locations (~a few miles)\n",
    "def random_nearby_coordinates(base_lat, base_lon, delta=0.05):\n",
    "    return (\n",
    "        base_lat + random.uniform(-delta, delta),\n",
    "        base_lon + random.uniform(-delta, delta)\n",
    "    )\n",
    "\n",
    "# Example fake addresses\n",
    "streets = [\n",
    "    \"123 Main St\",\n",
    "    \"456 Oak Ave\",\n",
    "    \"789 Pine Rd\",\n",
    "    \"101 Maple Blvd\",\n",
    "    \"202 Elm St\"\n",
    "]\n",
    "\n",
    "cities = [\"Phoenix\", \"Tempe\", \"Scottsdale\", \"Mesa\", \"Glendale\"]\n",
    "\n",
    "# Generate 5 unique location dicts\n",
    "locations = []\n",
    "for i in range(5):\n",
    "    lat, lon = random_nearby_coordinates(base_lat, base_lon)\n",
    "    entry = {\n",
    "        \"location_id\": f\"Location_{i+1}\",\n",
    "        \"address\": {\n",
    "            \"street\": streets[i],\n",
    "            \"city\": cities[i],\n",
    "            \"state\": \"AZ\",\n",
    "            \"zip\": str(85000 + i)  # simple sequential ZIPs\n",
    "        },\n",
    "        \"latitude\": lat,\n",
    "        \"longitude\": lon\n",
    "    }\n",
    "    locations.append(entry)\n",
    "\n",
    "# Save to JSON file\n",
    "with open(\"location_data.json\", \"w\") as f:\n",
    "    json.dump(locations, f, indent=2)\n"
   ]
  },
  {
   "cell_type": "markdown",
   "id": "015c4892",
   "metadata": {},
   "source": []
  }
 ],
 "metadata": {
  "kernelspec": {
   "display_name": "myenv",
   "language": "python",
   "name": "python3"
  },
  "language_info": {
   "codemirror_mode": {
    "name": "ipython",
    "version": 3
   },
   "file_extension": ".py",
   "mimetype": "text/x-python",
   "name": "python",
   "nbconvert_exporter": "python",
   "pygments_lexer": "ipython3",
   "version": "3.10.18"
  }
 },
 "nbformat": 4,
 "nbformat_minor": 5
}
