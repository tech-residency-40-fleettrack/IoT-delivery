{
 "cells": [
  {
   "cell_type": "markdown",
   "id": "153eb77b",
   "metadata": {},
   "source": [
    "# FleetTrack Tech Residency 40"
   ]
  },
  {
   "cell_type": "code",
   "execution_count": 1,
   "id": "13f1757e",
   "metadata": {},
   "outputs": [],
   "source": [
    "import numpy as np\n",
    "import pandas as pd\n",
    "import time\n",
    "import json\n",
    "import random"
   ]
  },
  {
   "cell_type": "markdown",
   "id": "5a010c67",
   "metadata": {},
   "source": [
    "### 4 hours of data for one vehicle"
   ]
  },
  {
   "cell_type": "code",
   "execution_count": null,
   "id": "bfc6cd79",
   "metadata": {},
   "outputs": [],
   "source": [
    "car1 = pd.DataFrame({\"vehicle_id\": ['c1'] * 24,\n",
    "                    \"timestamp\": pd.date_range(start='2023-10-01 00:09:00', periods=24, freq='10min'),\n",
    "                    \"speed_mph\": np.round(np.random.uniform(0, 70, 24), 2),})\n",
    "print(car1)"
   ]
  },
  {
   "cell_type": "code",
   "execution_count": null,
   "id": "209e551c",
   "metadata": {},
   "outputs": [],
   "source": [
    "# Random Walk (simple realistic variation)\n",
    "np.random.seed(42)\n",
    "\n",
    "n = 24\n",
    "timestamps = pd.date_range(start='2023-10-01 00:09:00', periods=n, freq='10min')\n",
    "\n",
    "# Start around 30 mph and add small random changes\n",
    "speeds = [30]\n",
    "for _ in range(1, n):\n",
    "    change = np.random.uniform(-5, 5)  # small change per step\n",
    "    new_speed = max(0, min(70, speeds[-1] + change))  # keep in range [0,70]\n",
    "    speeds.append(new_speed)\n",
    "\n",
    "car1 = pd.DataFrame({\n",
    "    \"vehicle_id\": [\"c1\"] * n,\n",
    "    \"timestamp\": timestamps,\n",
    "    \"speed_mph\": np.round(speeds, 2),\n",
    "    \"check_engine\": [0] * (n - 2) + [1, 0] #simulate a check engine event\n",
    "})\n",
    "print(car1)\n"
   ]
  },
  {
   "cell_type": "code",
   "execution_count": null,
   "id": "8f93fa30",
   "metadata": {},
   "outputs": [
    {
     "data": {
      "text/plain": [
       "[{'location_id': 'Location_1',\n",
       "  'address': {'street': '123 Main St',\n",
       "   'city': 'Phoenix',\n",
       "   'state': 'AZ',\n",
       "   'zip': '85000'},\n",
       "  'latitude': 33.4126642094734,\n",
       "  'longitude': -112.07944811954908},\n",
       " {'location_id': 'Location_2',\n",
       "  'address': {'street': '456 Oak Ave',\n",
       "   'city': 'Tempe',\n",
       "   'state': 'AZ',\n",
       "   'zip': '85001'},\n",
       "  'latitude': 33.48875319222395,\n",
       "  'longitude': -112.03755148020659},\n",
       " {'location_id': 'Location_3',\n",
       "  'address': {'street': '789 Pine Rd',\n",
       "   'city': 'Scottsdale',\n",
       "   'state': 'AZ',\n",
       "   'zip': '85002'},\n",
       "  'latitude': 33.40214625788509,\n",
       "  'longitude': -112.08301005507717},\n",
       " {'location_id': 'Location_4',\n",
       "  'address': {'street': '101 Maple Blvd',\n",
       "   'city': 'Mesa',\n",
       "   'state': 'AZ',\n",
       "   'zip': '85003'},\n",
       "  'latitude': 33.41568584255849,\n",
       "  'longitude': -112.10992747945114},\n",
       " {'location_id': 'Location_5',\n",
       "  'address': {'street': '202 Elm St',\n",
       "   'city': 'Glendale',\n",
       "   'state': 'AZ',\n",
       "   'zip': '85004'},\n",
       "  'latitude': 33.41876329329107,\n",
       "  'longitude': -112.09583864248516}]"
      ]
     },
     "execution_count": 2,
     "metadata": {},
     "output_type": "execute_result"
    }
   ],
   "source": [
    "### Location Database\n",
    "# Base coordinates roughly around Phoenix, AZ\n",
    "base_lat = 33.45\n",
    "base_lon = -112.07\n",
    "\n",
    "# Slight random offsets for nearby locations (~a few miles)\n",
    "def random_nearby_coordinates(base_lat, base_lon, delta=0.05):\n",
    "    return (\n",
    "        base_lat + random.uniform(-delta, delta),\n",
    "        base_lon + random.uniform(-delta, delta)\n",
    "    )\n",
    "\n",
    "# Example fake addresses\n",
    "streets = [\n",
    "    \"123 Main St\",\n",
    "    \"456 Oak Ave\",\n",
    "    \"789 Pine Rd\",\n",
    "    \"101 Maple Blvd\",\n",
    "    \"202 Elm St\"\n",
    "]\n",
    "\n",
    "cities = [\"Phoenix\", \"Tempe\", \"Scottsdale\", \"Mesa\", \"Glendale\"]\n",
    "\n",
    "# Generate 5 unique location dicts\n",
    "locations = []\n",
    "for i in range(5):\n",
    "    lat, lon = random_nearby_coordinates(base_lat, base_lon)\n",
    "    entry = {\n",
    "        \"location_id\": f\"Location_{i+1}\",\n",
    "        \"address\": {\n",
    "            \"street\": streets[i],\n",
    "            \"city\": cities[i],\n",
    "            \"state\": \"AZ\",\n",
    "            \"zip\": str(85000 + i)  # simple sequential ZIPs\n",
    "        },\n",
    "        \"latitude\": lat,\n",
    "        \"longitude\": lon\n",
    "    }\n",
    "    locations.append(entry)\n",
    "\n",
    "# Save to JSON file\n",
    "with open(\"location_data.json\", \"w\") as f:\n",
    "    json.dump(locations, f, indent=2)\n"
   ]
  }
 ],
 "metadata": {
  "kernelspec": {
   "display_name": "myenv",
   "language": "python",
   "name": "python3"
  },
  "language_info": {
   "codemirror_mode": {
    "name": "ipython",
    "version": 3
   },
   "file_extension": ".py",
   "mimetype": "text/x-python",
   "name": "python",
   "nbconvert_exporter": "python",
   "pygments_lexer": "ipython3",
   "version": "3.10.18"
  }
 },
 "nbformat": 4,
 "nbformat_minor": 5
}
